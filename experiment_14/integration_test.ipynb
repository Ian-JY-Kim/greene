{
 "cells": [
  {
   "cell_type": "code",
   "execution_count": 2,
   "metadata": {},
   "outputs": [],
   "source": [
    "import sys\n",
    "import numpy as np\n",
    "import pandas as pd\n",
    "from pandas import DataFrame as df\n",
    "import random\n",
    "from scipy.optimize import fsolve\n",
    "from scipy.optimize import minimize\n",
    "import math\n",
    "from scipy.stats import norm\n",
    "from statistics import NormalDist\n",
    "from scipy.integrate import quad\n",
    "from itertools import product"
   ]
  },
  {
   "cell_type": "code",
   "execution_count": 3,
   "metadata": {},
   "outputs": [],
   "source": [
    "# define predetermined values\n",
    "market_num = 25000\n",
    "epsilon = 0.0000000001\n",
    "\n",
    "# define parameters\n",
    "kappa_1 = 1.2\n",
    "kappa_2 = 1.2\n",
    "alpha = 0.5\n",
    "beta = 1\n",
    "gamma = 0.5\n",
    "\n",
    "# define mu of xi's \n",
    "mu_xi_1 = 0.03\n",
    "mu_xi_2 = 0\n",
    "sigma_xi_1 = 1.5\n",
    "sigma_xi_2 = 1.5\n",
    "\n",
    "# define bounds of X and W \n",
    "X_upper = 4\n",
    "X_lower = 1\n",
    "W_upper = 3\n",
    "W_lower = 0"
   ]
  },
  {
   "cell_type": "code",
   "execution_count": 4,
   "metadata": {},
   "outputs": [],
   "source": [
    "def monopoly(x, w, xi, omega):\n",
    "    mc = np.exp(gamma*w + omega)\n",
    "    T = np.exp(beta*x - alpha*mc + xi)\n",
    "\n",
    "    #(1) find Y\n",
    "    def monopoly_eqn(var):\n",
    "        Y = var\n",
    "        eq = 1 - Y + T*np.exp(-Y)\n",
    "        return eq\n",
    "    Y = fsolve(monopoly_eqn, 1)[0]\n",
    "    \n",
    "    pi = (1/alpha)*(Y-1) \n",
    "    price = Y/alpha + mc\n",
    "    share = pi/(price-mc)\n",
    "\n",
    "    return pi, price, share\n",
    "\n",
    "def duopoly(x_1, x_2, w_1, w_2, xi_1, xi_2, omega_1, omega_2):\n",
    "    mc_1 = np.exp(gamma*w_1 + omega_1) \n",
    "    mc_2 = np.exp(gamma*w_2 + omega_2)\n",
    "    T_1 = np.exp(beta*x_1 - alpha*mc_1 + xi_1)\n",
    "    T_2 = np.exp(beta*x_2 - alpha*mc_2 + xi_2)\n",
    "    \n",
    "    def duopoly_fun(Y):\n",
    "        Y_1, Y_2 = Y\n",
    "        eqn1 = Y_1 - math.log(T_1*(Y_2-1)) + math.log(1-Y_2+T_2*np.exp(-Y_2))        \n",
    "        return abs(eqn1)\n",
    "    \n",
    "    def c1(Y):\n",
    "        'Y_1 exp term greater than 0'\n",
    "        Y_1, Y_2 = Y\n",
    "        return 1-Y_1+T_1*np.exp(-Y_1)\n",
    "\n",
    "    def c2(Y):\n",
    "        'Y_2 exp term greater than 0'\n",
    "        Y_1, Y_2 = Y \n",
    "        return 1-Y_2+T_2*np.exp(-Y_2)\n",
    "    \n",
    "    def c3(Y):\n",
    "        Y_1, Y_2 = Y\n",
    "        return Y_2 - math.log(T_2*(Y_1-1)) + math.log(1-Y_1+T_1*np.exp(-Y_1))\n",
    "\n",
    "    bnds = ((1.000001, None), (1.000001, None))\n",
    "    cons = ({'type': 'ineq', 'fun': c1}, \n",
    "            {'type': 'ineq', 'fun': c2},\n",
    "            {'type': 'eq', 'fun': c3})\n",
    "    initial_point = (1.0001, 1.0001)\n",
    "    res = minimize(duopoly_fun, initial_point, method = 'SLSQP', bounds=bnds, constraints=cons)\n",
    "    Y_1 = res.x[0]\n",
    "    Y_2 = res.x[1]\n",
    "    \n",
    "    pi_1 = (1/alpha)*(Y_1-1)\n",
    "    pi_2 = (1/alpha)*(Y_2-1)\n",
    "\n",
    "    price_1 = Y_1/alpha + mc_1\n",
    "    price_2 = Y_2/alpha + mc_2\n",
    "\n",
    "    share_1 = pi_1/(price_1 - mc_1)\n",
    "    share_2 = pi_2/(price_2 - mc_2)\n",
    "\n",
    "    return pi_1, pi_2, price_1, price_2, share_1, share_2"
   ]
  },
  {
   "cell_type": "code",
   "execution_count": 23,
   "metadata": {},
   "outputs": [],
   "source": [
    "def EXP_pi_duo_f1_trapz(x_1, x_2, w_1, w_2, xi_1, xi_2_star, discretize):\n",
    "    xi_2_vec = np.linspace(xi_2_star, 6 + mu_xi_2, discretize)\n",
    "    vec_duo = np.vectorize(duopoly)\n",
    "    trapz_fun1 = vec_duo(x_1, x_2, w_1, w_2, xi_1, xi_2_vec,-0.05, 0.35)[0] * norm.pdf(xi_2_vec, mu_xi_2, sigma_xi_2)\n",
    "    trapz_fun2 = vec_duo(x_1, x_2, w_1, w_2, xi_1, xi_2_vec,-0.05,-0.05)[0] * norm.pdf(xi_2_vec, mu_xi_2, sigma_xi_2)\n",
    "    trapz_fun3 = vec_duo(x_1, x_2, w_1, w_2, xi_1, xi_2_vec, 0.35, 0.35)[0] * norm.pdf(xi_2_vec, mu_xi_2, sigma_xi_2)\n",
    "    trapz_fun4 = vec_duo(x_1, x_2, w_1, w_2, xi_1, xi_2_vec, 0.35,-0.05)[0] * norm.pdf(xi_2_vec, mu_xi_2, sigma_xi_2)\n",
    "    \n",
    "    trapz_sum = 0\n",
    "    for i in range(1,discretize):\n",
    "        delta_x = xi_2_vec[i] - xi_2_vec[i-1]\n",
    "        height1 = (1/2)*(trapz_fun1[i] + trapz_fun1[i-1])\n",
    "        height2 = (1/2)*(trapz_fun2[i] + trapz_fun2[i-1])\n",
    "        height3 = (1/2)*(trapz_fun3[i] + trapz_fun3[i-1])\n",
    "        height4 = (1/2)*(trapz_fun4[i] + trapz_fun4[i-1])\n",
    "        height = (1/4)*(height1+height2+height3+height4)\n",
    "        trapz_sum += delta_x * height\n",
    "    prob_f2_in  = 1 - norm.cdf(xi_2_star, loc = mu_xi_2, scale = sigma_xi_2)\n",
    "    return (1/prob_f2_in)*trapz_sum "
   ]
  },
  {
   "cell_type": "code",
   "execution_count": 24,
   "metadata": {},
   "outputs": [],
   "source": [
    "import matplotlib.pyplot as plt"
   ]
  },
  {
   "cell_type": "code",
   "execution_count": 25,
   "metadata": {},
   "outputs": [],
   "source": [
    "disc_space = np.array([100, 200, 300, 400, 500, 600, 700, 800, 900, 1000])"
   ]
  },
  {
   "cell_type": "code",
   "execution_count": 26,
   "metadata": {},
   "outputs": [
    {
     "data": {
      "text/plain": [
       "[<matplotlib.lines.Line2D at 0x1fc647d81d0>]"
      ]
     },
     "execution_count": 26,
     "metadata": {},
     "output_type": "execute_result"
    },
    {
     "data": {
      "image/png": "[encoded data removed]",
      "text/plain": [
       "<Figure size 640x480 with 1 Axes>"
      ]
     },
     "metadata": {},
     "output_type": "display_data"
    }
   ],
   "source": [
    "vec_EXP_pi_duo_f1_trapz = np.vectorize(EXP_pi_duo_f1_trapz)\n",
    "\n",
    "plt.plot(disc_space, vec_EXP_pi_duo_f1_trapz(2,2,1,1,0.5,0,disc_space))"
   ]
  },
  {
   "cell_type": "code",
   "execution_count": 27,
   "metadata": {},
   "outputs": [
    {
     "data": {
      "text/plain": [
       "0.8707871248241726"
      ]
     },
     "execution_count": 27,
     "metadata": {},
     "output_type": "execute_result"
    }
   ],
   "source": [
    "EXP_pi_duo_f1_trapz(2,2,1,1,0.5,0,500)"
   ]
  }
 ],
 "metadata": {
  "kernelspec": {
   "display_name": "base",
   "language": "python",
   "name": "python3"
  },
  "language_info": {
   "codemirror_mode": {
    "name": "ipython",
    "version": 3
   },
   "file_extension": ".py",
   "mimetype": "text/x-python",
   "name": "python",
   "nbconvert_exporter": "python",
   "pygments_lexer": "ipython3",
   "version": "3.11.4"
  },
  "orig_nbformat": 4
 },
 "nbformat": 4,
 "nbformat_minor": 2
}
